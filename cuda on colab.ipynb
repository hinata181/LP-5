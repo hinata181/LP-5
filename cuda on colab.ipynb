{
 "cells": [
  {
   "cell_type": "code",
   "execution_count": 1,
   "metadata": {
    "colab": {
     "base_uri": "https://localhost:8080/",
     "height": 0
    },
    "id": "RnIvHotFFmvv",
    "outputId": "8446d370-f204-42e7-f8be-7cc70888715e"
   },
   "outputs": [
    {
     "name": "stdout",
     "output_type": "stream",
     "text": [
      "Writing vectorAdd.cu\n"
     ]
    }
   ],
   "source": [
    "%%writefile vectorAdd.cu\n",
    "#include <cstdlib>\n",
    "#include <iostream>\n",
    "\n",
    "#define checkCudaErrors(call)                                                                 \\\n",
    "    do {                                                                                      \\\n",
    "        cudaError_t err = call;                                                               \\\n",
    "        if (err != cudaSuccess) {                                                             \\\n",
    "            printf(\"CUDA error at %s %d: %s\\n\", __FILE__, __LINE__, cudaGetErrorString(err)); \\\n",
    "            exit(EXIT_FAILURE);                                                               \\\n",
    "        }                                                                                     \\\n",
    "    } while (0)\n",
    "\n",
    "using namespace std;\n",
    "\n",
    "// VectorAdd parallel function\n",
    "__global__ void vectorAdd(int *a, int *b, int *result, int n) {\n",
    "    int tid = threadIdx.x + blockIdx.x * blockDim.x;\n",
    "    if (tid < n) {\n",
    "        result[tid] = a[tid] + b[tid];\n",
    "    }\n",
    "}\n",
    "\n",
    "int main() {\n",
    "    int *a, *b, *c;\n",
    "    int *a_dev, *b_dev, *c_dev;\n",
    "    int n = 1 << 4;\n",
    "\n",
    "    a = new int[n];\n",
    "    b = new int[n];\n",
    "    c = new int[n];\n",
    "    int *d = new int[n];\n",
    "    int size = n * sizeof(int);\n",
    "    checkCudaErrors(cudaMalloc(&a_dev, size));\n",
    "    checkCudaErrors(cudaMalloc(&b_dev, size));\n",
    "    checkCudaErrors(cudaMalloc(&c_dev, size));\n",
    "\n",
    "    // Array initialization..You can use Randon function to assign values\n",
    "    for (int i = 0; i < n; i++) {\n",
    "        a[i] = rand() % 1000;\n",
    "        b[i] = rand() % 1000;\n",
    "        d[i] = a[i] + b[i];  // calculating serial addition\n",
    "    }\n",
    "    cout << \"Given array A is =>\\n\";\n",
    "    for (int i = 0; i < n; i++) {\n",
    "        cout << a[i] << \", \";\n",
    "    }\n",
    "    cout << \"\\n\\n\";\n",
    "\n",
    "    cout << \"Given array B is =>\\n\";\n",
    "    for (int i = 0; i < n; i++) {\n",
    "        cout << b[i] << \", \";\n",
    "    }\n",
    "    cout << \"\\n\\n\";\n",
    "\n",
    "    cudaEvent_t start, end;\n",
    "\n",
    "    checkCudaErrors(cudaEventCreate(&start));\n",
    "    checkCudaErrors(cudaEventCreate(&end));\n",
    "\n",
    "    checkCudaErrors(cudaMemcpy(a_dev, a, size, cudaMemcpyHostToDevice));\n",
    "    checkCudaErrors(cudaMemcpy(b_dev, b, size, cudaMemcpyHostToDevice));\n",
    "    int threads = 1024;\n",
    "    int blocks = (n + threads - 1) / threads;\n",
    "    checkCudaErrors(cudaEventRecord(start));\n",
    "\n",
    "    // Parallel addition program\n",
    "    vectorAdd<<<blocks, threads>>>(a_dev, b_dev, c_dev, n);\n",
    "\n",
    "    checkCudaErrors(cudaEventRecord(end));\n",
    "    checkCudaErrors(cudaEventSynchronize(end));\n",
    "\n",
    "    float time = 0.0;\n",
    "    checkCudaErrors(cudaEventElapsedTime(&time, start, end));\n",
    "\n",
    "    checkCudaErrors(cudaMemcpy(c, c_dev, size, cudaMemcpyDeviceToHost));\n",
    "\n",
    "    // Calculate the error term.\n",
    "\n",
    "    cout << \"CPU sum is =>\\n\";\n",
    "    for (int i = 0; i < n; i++) {\n",
    "        cout << d[i] << \", \";\n",
    "    }\n",
    "    cout << \"\\n\\n\";\n",
    "\n",
    "    cout << \"GPU sum is =>\\n\";\n",
    "    for (int i = 0; i < n; i++) {\n",
    "        cout << c[i] << \", \";\n",
    "    }\n",
    "    cout << \"\\n\\n\";\n",
    "\n",
    "    int error = 0;\n",
    "    for (int i = 0; i < n; i++) {\n",
    "        error += d[i] - c[i];\n",
    "        if (0 != (d[i] - c[i])) {\n",
    "            cout << \"Error at (\" << i << \") => GPU: \" << c[i] << \", CPU: \" << d[i] << \"\\n\";\n",
    "        }\n",
    "    }\n",
    "\n",
    "    cout << \"\\nError : \" << error;\n",
    "    cout << \"\\nTime Elapsed: \" << time;\n",
    "\n",
    "    return 0;\n",
    "}\n",
    "\n"
   ]
  },
  {
   "cell_type": "code",
   "execution_count": 2,
   "metadata": {
    "id": "i_Gd1Y3gGRwv"
   },
   "outputs": [
    {
     "name": "stderr",
     "output_type": "stream",
     "text": [
      "'nvcc' is not recognized as an internal or external command,\n",
      "operable program or batch file.\n"
     ]
    }
   ],
   "source": [
    "!nvcc vectorAdd.cu -o vectorAdd"
   ]
  },
  {
   "cell_type": "code",
   "execution_count": 3,
   "metadata": {
    "colab": {
     "base_uri": "https://localhost:8080/",
     "height": 0
    },
    "id": "AdLq3uWLGSyc",
    "outputId": "b2ec4d7c-a951-4505-9a0d-26fbbbef77d3"
   },
   "outputs": [
    {
     "name": "stderr",
     "output_type": "stream",
     "text": [
      "'.' is not recognized as an internal or external command,\n",
      "operable program or batch file.\n"
     ]
    }
   ],
   "source": [
    "!./vectorAdd"
   ]
  },
  {
   "cell_type": "code",
   "execution_count": 4,
   "metadata": {
    "colab": {
     "base_uri": "https://localhost:8080/",
     "height": 0
    },
    "id": "83oeat1rGiHm",
    "outputId": "80ae6afe-2cf1-4011-ea0b-000149171d06"
   },
   "outputs": [
    {
     "name": "stdout",
     "output_type": "stream",
     "text": [
      "Writing MartrixMul.cu\n"
     ]
    }
   ],
   "source": [
    "%%writefile MartrixMul.cu\n",
    "\n",
    "#include <cmath>\n",
    "#include <cstdlib>\n",
    "#include <iostream>\n",
    "\n",
    "#define checkCudaErrors(call)                                                                 \\\n",
    "    do {                                                                                      \\\n",
    "        cudaError_t err = call;                                                               \\\n",
    "        if (err != cudaSuccess) {                                                             \\\n",
    "            printf(\"CUDA error at %s %d: %s\\n\", __FILE__, __LINE__, cudaGetErrorString(err)); \\\n",
    "            exit(EXIT_FAILURE);                                                               \\\n",
    "        }                                                                                     \\\n",
    "    } while (0)\n",
    "\n",
    "using namespace std;\n",
    "\n",
    "// Matrix multiplication Cuda\n",
    "__global__ void matrixMultiplication(int *a, int *b, int *c, int n) {\n",
    "    int row = threadIdx.y + blockDim.y * blockIdx.y;\n",
    "    int col = threadIdx.x + blockDim.x * blockIdx.x;\n",
    "    int sum = 0;\n",
    "\n",
    "    if (row < n && col < n)\n",
    "        for (int j = 0; j < n; j++) {\n",
    "            sum = sum + a[row * n + j] * b[j * n + col];\n",
    "        }\n",
    "\n",
    "    c[n * row + col] = sum;\n",
    "}\n",
    "\n",
    "int main() {\n",
    "    int *a, *b, *c;\n",
    "    int *a_dev, *b_dev, *c_dev;\n",
    "    int n = 10;\n",
    "\n",
    "    a = new int[n * n];\n",
    "    b = new int[n * n];\n",
    "    c = new int[n * n];\n",
    "    int *d = new int[n * n];\n",
    "    int size = n * n * sizeof(int);\n",
    "    checkCudaErrors(cudaMalloc(&a_dev, size));\n",
    "    checkCudaErrors(cudaMalloc(&b_dev, size));\n",
    "    checkCudaErrors(cudaMalloc(&c_dev, size));\n",
    "\n",
    "    // Array initialization\n",
    "    for (int i = 0; i < n * n; i++) {\n",
    "        a[i] = rand() % 10;\n",
    "        b[i] = rand() % 10;\n",
    "    }\n",
    "\n",
    "    cout << \"Given matrix A is =>\\n\";\n",
    "    for (int row = 0; row < n; row++) {\n",
    "        for (int col = 0; col < n; col++) {\n",
    "            cout << a[row * n + col] << \" \";\n",
    "        }\n",
    "        cout << \"\\n\";\n",
    "    }\n",
    "    cout << \"\\n\";\n",
    "\n",
    "    cout << \"Given matrix B is =>\\n\";\n",
    "    for (int row = 0; row < n; row++) {\n",
    "        for (int col = 0; col < n; col++) {\n",
    "            cout << b[row * n + col] << \" \";\n",
    "        }\n",
    "        cout << \"\\n\";\n",
    "    }\n",
    "    cout << \"\\n\";\n",
    "\n",
    "    cudaEvent_t start, end;\n",
    "\n",
    "    checkCudaErrors(cudaEventCreate(&start));\n",
    "    checkCudaErrors(cudaEventCreate(&end));\n",
    "\n",
    "    checkCudaErrors(cudaMemcpy(a_dev, a, size, cudaMemcpyHostToDevice));\n",
    "    checkCudaErrors(cudaMemcpy(b_dev, b, size, cudaMemcpyHostToDevice));\n",
    "\n",
    "    dim3 threadsPerBlock(n, n);\n",
    "    dim3 blocksPerGrid(1, 1);\n",
    "\n",
    "    // GPU Multiplication\n",
    "    checkCudaErrors(cudaEventRecord(start));\n",
    "    matrixMultiplication<<<blocksPerGrid, threadsPerBlock>>>(a_dev, b_dev, c_dev, n);\n",
    "\n",
    "    checkCudaErrors(cudaEventRecord(end));\n",
    "    checkCudaErrors(cudaEventSynchronize(end));\n",
    "\n",
    "    float time = 0.0;\n",
    "    checkCudaErrors(cudaEventElapsedTime(&time, start, end));\n",
    "\n",
    "    checkCudaErrors(cudaMemcpy(c, c_dev, size, cudaMemcpyDeviceToHost));\n",
    "\n",
    "    // CPU matrix multiplication\n",
    "    int sum = 0;\n",
    "    for (int row = 0; row < n; row++) {\n",
    "        for (int col = 0; col < n; col++) {\n",
    "            sum = 0;\n",
    "            for (int k = 0; k < n; k++) sum = sum + a[row * n + k] * b[k * n + col];\n",
    "            d[row * n + col] = sum;\n",
    "        }\n",
    "    }\n",
    "\n",
    "    cout << \"CPU product is =>\\n\";\n",
    "    for (int row = 0; row < n; row++) {\n",
    "        for (int col = 0; col < n; col++) {\n",
    "            cout << d[row * n + col] << \" \";\n",
    "        }\n",
    "        cout << \"\\n\";\n",
    "    }\n",
    "    cout << \"\\n\";\n",
    "\n",
    "    cout << \"GPU product is =>\\n\";\n",
    "    for (int row = 0; row < n; row++) {\n",
    "        for (int col = 0; col < n; col++) {\n",
    "            cout << c[row * n + col] << \" \";\n",
    "        }\n",
    "        cout << \"\\n\";\n",
    "    }\n",
    "    cout << \"\\n\";\n",
    "\n",
    "    int error = 0;\n",
    "    int _c, _d;\n",
    "    for (int row = 0; row < n; row++) {\n",
    "        for (int col = 0; col < n; col++) {\n",
    "            _c = c[row * n + col];\n",
    "            _d = d[row * n + col];\n",
    "            error += _c - _d;\n",
    "            if (0 != (_c - _d)) {\n",
    "                cout << \"Error at (\" << row << \", \" << col << \") => GPU: \" << _c << \", CPU: \" << _d\n",
    "                     << \"\\n\";\n",
    "            }\n",
    "        }\n",
    "    }\n",
    "    cout << \"\\n\";\n",
    "\n",
    "    cout << \"Error : \" << error;\n",
    "    cout << \"\\nTime Elapsed: \" << time;\n",
    "\n",
    "    return 0;\n",
    "}\n",
    "\n"
   ]
  },
  {
   "cell_type": "code",
   "execution_count": 5,
   "metadata": {
    "id": "c7HbZXd4Gv2v"
   },
   "outputs": [
    {
     "name": "stderr",
     "output_type": "stream",
     "text": [
      "'nvcc' is not recognized as an internal or external command,\n",
      "operable program or batch file.\n"
     ]
    }
   ],
   "source": [
    "!nvcc MartrixMul.cu -o MartrixMul"
   ]
  },
  {
   "cell_type": "code",
   "execution_count": 6,
   "metadata": {
    "colab": {
     "base_uri": "https://localhost:8080/",
     "height": 0
    },
    "id": "cJLG3ZFXGvn1",
    "outputId": "35516a54-eb02-4524-9b8c-50cd466e698f"
   },
   "outputs": [
    {
     "name": "stderr",
     "output_type": "stream",
     "text": [
      "'.' is not recognized as an internal or external command,\n",
      "operable program or batch file.\n"
     ]
    }
   ],
   "source": [
    "!./MartrixMul"
   ]
  }
 ],
 "metadata": {
  "accelerator": "GPU",
  "colab": {
   "gpuType": "T4",
   "provenance": []
  },
  "kernelspec": {
   "display_name": "Python 3 (ipykernel)",
   "language": "python",
   "name": "python3"
  },
  "language_info": {
   "codemirror_mode": {
    "name": "ipython",
    "version": 3
   },
   "file_extension": ".py",
   "mimetype": "text/x-python",
   "name": "python",
   "nbconvert_exporter": "python",
   "pygments_lexer": "ipython3",
   "version": "3.11.5"
  }
 },
 "nbformat": 4,
 "nbformat_minor": 1
}
